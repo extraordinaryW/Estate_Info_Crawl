{
 "cells": [
  {
   "cell_type": "code",
   "execution_count": 2,
   "id": "f13c5934",
   "metadata": {},
   "outputs": [],
   "source": [
    "import os\n",
    "import pandas as pd"
   ]
  },
  {
   "cell_type": "code",
   "execution_count": 4,
   "id": "fcfa36b1",
   "metadata": {},
   "outputs": [
    {
     "data": {
      "text/plain": [
       "4997"
      ]
     },
     "execution_count": 4,
     "metadata": {},
     "output_type": "execute_result"
    }
   ],
   "source": [
    "excel_file = pd.read_excel('./output/京东法拍房_数据_before_0829.xlsx')\n",
    "len(excel_file)\n"
   ]
  },
  {
   "cell_type": "code",
   "execution_count": 9,
   "id": "c2ab9d96",
   "metadata": {},
   "outputs": [],
   "source": [
    "asset_names = set(excel_file['资产名称'].dropna().astype(str).tolist())\n",
    "\n",
    "output_list = os.listdir('./output/京东法拍')\n",
    "output_names = set(output_list)\n",
    "\n",
    "missing_names = asset_names - output_names"
   ]
  },
  {
   "cell_type": "code",
   "execution_count": 12,
   "id": "c78831ae",
   "metadata": {},
   "outputs": [
    {
     "data": {
      "text/plain": [
       "421"
      ]
     },
     "execution_count": 12,
     "metadata": {},
     "output_type": "execute_result"
    }
   ],
   "source": [
    "duplicated_names = excel_file[excel_file.duplicated(subset=['资产名称'], keep=False)]\n",
    "len(duplicated_names)"
   ]
  },
  {
   "cell_type": "code",
   "execution_count": 10,
   "id": "b0b2d586",
   "metadata": {},
   "outputs": [
    {
     "data": {
      "text/plain": [
       "{'【一拍】成都市华阳街道华府大道一段6号左岸花都1栋1单元3层5号房屋.',\n",
       " '【一拍】成都市武侯区郭家桥北街10号2栋1单元1楼2号房屋.',\n",
       " '【一拍】成都市武侯区鹭岛路33号14栋3单元9楼2号房屋.',\n",
       " '【一拍】成都市金牛区蜀光路16号7栋1单元1楼1号房屋.',\n",
       " '【一拍】成都市青羊区黄田坝经五路57号822栋\\\\单元4楼3号房屋及附着装修',\n",
       " '【一拍】成都市高新区中和老成仁路178号50栋1单元13楼1301号房屋.',\n",
       " '【二拍】成都市双流区东升街道藏卫路142号3栋1单元2楼2*31号房屋',\n",
       " '【二拍】成都市新都区三河银杏路99号1栋4单元5楼9号房屋.',\n",
       " '【二拍】成都市武侯区人民南路四段68号/栋W单元3楼3号房屋（实勘地址为：成都市武侯区桐梓林东路3号8栋1单元303号）',\n",
       " '【二拍】成都市武侯区潮音路109号7栋1单元3层304号房屋.',\n",
       " '【二拍】成都市青白江区大同镇凤凰东二路186号3栋1单元3层304号房屋.',\n",
       " '【变卖】成都市成华区万科路5号“万科•金库”1栋11层1109、1110号两套办公用房.'}"
      ]
     },
     "execution_count": 10,
     "metadata": {},
     "output_type": "execute_result"
    }
   ],
   "source": [
    "missing_names"
   ]
  }
 ],
 "metadata": {
  "kernelspec": {
   "display_name": "base",
   "language": "python",
   "name": "python3"
  },
  "language_info": {
   "codemirror_mode": {
    "name": "ipython",
    "version": 3
   },
   "file_extension": ".py",
   "mimetype": "text/x-python",
   "name": "python",
   "nbconvert_exporter": "python",
   "pygments_lexer": "ipython3",
   "version": "3.11.5"
  }
 },
 "nbformat": 4,
 "nbformat_minor": 5
}
